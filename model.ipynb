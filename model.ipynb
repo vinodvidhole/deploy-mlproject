{
 "cells": [
  {
   "cell_type": "code",
   "execution_count": 2,
   "id": "18d80342",
   "metadata": {},
   "outputs": [
    {
     "name": "stdout",
     "output_type": "stream",
     "text": [
      "\u001b[33mWARNING: You are using pip version 21.2.3; however, version 22.2.2 is available.\n",
      "You should consider upgrading via the '/Users/vinoddhole/Desktop/Vinod/DataScience/deploy-mlproject/VENV/bin/python -m pip install --upgrade pip' command.\u001b[0m\n",
      "\u001b[33mWARNING: You are using pip version 21.2.3; however, version 22.2.2 is available.\n",
      "You should consider upgrading via the '/Users/vinoddhole/Desktop/Vinod/DataScience/deploy-mlproject/VENV/bin/python -m pip install --upgrade pip' command.\u001b[0m\n"
     ]
    }
   ],
   "source": [
    "#!pip install pandas -q\n",
    "#!pip install sklearn -q"
   ]
  },
  {
   "cell_type": "markdown",
   "id": "d3fb64ec",
   "metadata": {},
   "source": [
    "## Create Model"
   ]
  },
  {
   "cell_type": "code",
   "execution_count": 3,
   "id": "6c708b22",
   "metadata": {},
   "outputs": [
    {
     "data": {
      "text/plain": [
       "0.7103825136612022"
      ]
     },
     "execution_count": 3,
     "metadata": {},
     "output_type": "execute_result"
    }
   ],
   "source": [
    "import pandas as pd\n",
    "from sklearn.linear_model import LogisticRegression\n",
    "# create df\n",
    "train = pd.read_csv('titanic.csv') # change file path\n",
    "# drop null values\n",
    "train.dropna(inplace=True)\n",
    "# features and target\n",
    "target = 'Survived'\n",
    "features = ['Pclass', 'Age', 'SibSp', 'Fare']\n",
    "# X matrix, y vector\n",
    "X = train[features]\n",
    "y = train[target]\n",
    "# model \n",
    "model = LogisticRegression()\n",
    "model.fit(X, y)\n",
    "model.score(X, y)"
   ]
  },
  {
   "cell_type": "code",
   "execution_count": null,
   "id": "a7942e77",
   "metadata": {},
   "outputs": [],
   "source": [
    "train.head()"
   ]
  },
  {
   "cell_type": "markdown",
   "id": "25e09f82",
   "metadata": {},
   "source": [
    "## Pickle Model\n"
   ]
  },
  {
   "cell_type": "code",
   "execution_count": 6,
   "id": "f2723a7f",
   "metadata": {},
   "outputs": [],
   "source": [
    "import pickle\n",
    "\n",
    "pickle.dump(model, open('model.pkl', 'wb'))"
   ]
  },
  {
   "cell_type": "markdown",
   "id": "a2b664fd",
   "metadata": {},
   "source": [
    "## Test Flask in Production\n"
   ]
  },
  {
   "cell_type": "code",
   "execution_count": 9,
   "id": "f7a409fe",
   "metadata": {},
   "outputs": [],
   "source": [
    "import requests\n",
    "import json"
   ]
  },
  {
   "cell_type": "code",
   "execution_count": 10,
   "id": "35cd5ae3",
   "metadata": {},
   "outputs": [
    {
     "data": {
      "text/plain": [
       "'{\"Pclass\": 3, \"Age\": 2, \"SibSp\": 1, \"Fare\": 50}'"
      ]
     },
     "execution_count": 10,
     "metadata": {},
     "output_type": "execute_result"
    }
   ],
   "source": [
    "# local url\n",
    "url = 'http://127.0.0.1:5000'\n",
    "\n",
    "\n",
    "# test data\n",
    "data = {  'Pclass': 3\n",
    "             , 'Age': 2\n",
    "             , 'SibSp': 1\n",
    "             , 'Fare': 50}\n",
    "\n",
    "data = json.dumps(data)\n",
    "data"
   ]
  },
  {
   "cell_type": "code",
   "execution_count": 11,
   "id": "074e9ad7",
   "metadata": {},
   "outputs": [
    {
     "name": "stdout",
     "output_type": "stream",
     "text": [
      "<Response [200]>\n"
     ]
    }
   ],
   "source": [
    "r_survey = requests.post(url, data)\n",
    "print(r_survey)"
   ]
  },
  {
   "cell_type": "code",
   "execution_count": 12,
   "id": "14689a0d",
   "metadata": {},
   "outputs": [
    {
     "name": "stdout",
     "output_type": "stream",
     "text": [
      "<Response [200]>\n"
     ]
    }
   ],
   "source": [
    "send_request = requests.post(url, data)\n",
    "print(send_request)"
   ]
  },
  {
   "cell_type": "code",
   "execution_count": 13,
   "id": "b3681075",
   "metadata": {},
   "outputs": [
    {
     "name": "stdout",
     "output_type": "stream",
     "text": [
      "{'results': {'results': 1}}\n"
     ]
    }
   ],
   "source": [
    "print(send_request.json())"
   ]
  },
  {
   "cell_type": "code",
   "execution_count": null,
   "id": "07d03200",
   "metadata": {},
   "outputs": [],
   "source": []
  }
 ],
 "metadata": {
  "kernelspec": {
   "display_name": "Python 3 (ipykernel)",
   "language": "python",
   "name": "python3"
  },
  "language_info": {
   "codemirror_mode": {
    "name": "ipython",
    "version": 3
   },
   "file_extension": ".py",
   "mimetype": "text/x-python",
   "name": "python",
   "nbconvert_exporter": "python",
   "pygments_lexer": "ipython3",
   "version": "3.9.7"
  }
 },
 "nbformat": 4,
 "nbformat_minor": 5
}
